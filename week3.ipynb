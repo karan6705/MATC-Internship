{
 "cells": [
  {
   "cell_type": "code",
   "execution_count": 21,
   "id": "715dc33a-a6f5-4b2a-9eb0-26ae3fe93c86",
   "metadata": {},
   "outputs": [
    {
     "data": {
      "text/html": [
       "<div>\n",
       "<style scoped>\n",
       "    .dataframe tbody tr th:only-of-type {\n",
       "        vertical-align: middle;\n",
       "    }\n",
       "\n",
       "    .dataframe tbody tr th {\n",
       "        vertical-align: top;\n",
       "    }\n",
       "\n",
       "    .dataframe thead th {\n",
       "        text-align: right;\n",
       "    }\n",
       "</style>\n",
       "<table border=\"1\" class=\"dataframe\">\n",
       "  <thead>\n",
       "    <tr style=\"text-align: right;\">\n",
       "      <th></th>\n",
       "      <th>survived</th>\n",
       "      <th>pclass</th>\n",
       "      <th>sex</th>\n",
       "      <th>age</th>\n",
       "      <th>sibsp</th>\n",
       "      <th>parch</th>\n",
       "      <th>fare</th>\n",
       "      <th>embarked</th>\n",
       "      <th>class</th>\n",
       "      <th>who</th>\n",
       "      <th>adult_male</th>\n",
       "      <th>deck</th>\n",
       "      <th>embark_town</th>\n",
       "      <th>alive</th>\n",
       "      <th>alone</th>\n",
       "    </tr>\n",
       "  </thead>\n",
       "  <tbody>\n",
       "    <tr>\n",
       "      <th>0</th>\n",
       "      <td>0</td>\n",
       "      <td>3</td>\n",
       "      <td>male</td>\n",
       "      <td>22.0</td>\n",
       "      <td>1</td>\n",
       "      <td>0</td>\n",
       "      <td>7.2500</td>\n",
       "      <td>S</td>\n",
       "      <td>Third</td>\n",
       "      <td>man</td>\n",
       "      <td>True</td>\n",
       "      <td>NaN</td>\n",
       "      <td>Southampton</td>\n",
       "      <td>no</td>\n",
       "      <td>False</td>\n",
       "    </tr>\n",
       "    <tr>\n",
       "      <th>1</th>\n",
       "      <td>1</td>\n",
       "      <td>1</td>\n",
       "      <td>female</td>\n",
       "      <td>38.0</td>\n",
       "      <td>1</td>\n",
       "      <td>0</td>\n",
       "      <td>71.2833</td>\n",
       "      <td>C</td>\n",
       "      <td>First</td>\n",
       "      <td>woman</td>\n",
       "      <td>False</td>\n",
       "      <td>C</td>\n",
       "      <td>Cherbourg</td>\n",
       "      <td>yes</td>\n",
       "      <td>False</td>\n",
       "    </tr>\n",
       "    <tr>\n",
       "      <th>2</th>\n",
       "      <td>1</td>\n",
       "      <td>3</td>\n",
       "      <td>female</td>\n",
       "      <td>26.0</td>\n",
       "      <td>0</td>\n",
       "      <td>0</td>\n",
       "      <td>7.9250</td>\n",
       "      <td>S</td>\n",
       "      <td>Third</td>\n",
       "      <td>woman</td>\n",
       "      <td>False</td>\n",
       "      <td>NaN</td>\n",
       "      <td>Southampton</td>\n",
       "      <td>yes</td>\n",
       "      <td>True</td>\n",
       "    </tr>\n",
       "    <tr>\n",
       "      <th>3</th>\n",
       "      <td>1</td>\n",
       "      <td>1</td>\n",
       "      <td>female</td>\n",
       "      <td>35.0</td>\n",
       "      <td>1</td>\n",
       "      <td>0</td>\n",
       "      <td>53.1000</td>\n",
       "      <td>S</td>\n",
       "      <td>First</td>\n",
       "      <td>woman</td>\n",
       "      <td>False</td>\n",
       "      <td>C</td>\n",
       "      <td>Southampton</td>\n",
       "      <td>yes</td>\n",
       "      <td>False</td>\n",
       "    </tr>\n",
       "    <tr>\n",
       "      <th>4</th>\n",
       "      <td>0</td>\n",
       "      <td>3</td>\n",
       "      <td>male</td>\n",
       "      <td>35.0</td>\n",
       "      <td>0</td>\n",
       "      <td>0</td>\n",
       "      <td>8.0500</td>\n",
       "      <td>S</td>\n",
       "      <td>Third</td>\n",
       "      <td>man</td>\n",
       "      <td>True</td>\n",
       "      <td>NaN</td>\n",
       "      <td>Southampton</td>\n",
       "      <td>no</td>\n",
       "      <td>True</td>\n",
       "    </tr>\n",
       "  </tbody>\n",
       "</table>\n",
       "</div>"
      ],
      "text/plain": [
       "   survived  pclass     sex   age  sibsp  parch     fare embarked  class  \\\n",
       "0         0       3    male  22.0      1      0   7.2500        S  Third   \n",
       "1         1       1  female  38.0      1      0  71.2833        C  First   \n",
       "2         1       3  female  26.0      0      0   7.9250        S  Third   \n",
       "3         1       1  female  35.0      1      0  53.1000        S  First   \n",
       "4         0       3    male  35.0      0      0   8.0500        S  Third   \n",
       "\n",
       "     who  adult_male deck  embark_town alive  alone  \n",
       "0    man        True  NaN  Southampton    no  False  \n",
       "1  woman       False    C    Cherbourg   yes  False  \n",
       "2  woman       False  NaN  Southampton   yes   True  \n",
       "3  woman       False    C  Southampton   yes  False  \n",
       "4    man        True  NaN  Southampton    no   True  "
      ]
     },
     "execution_count": 21,
     "metadata": {},
     "output_type": "execute_result"
    }
   ],
   "source": [
    "import pandas as pd\n",
    "import seaborn as sns\n",
    "\n",
    "df = sns.load_dataset(\"titanic\")\n",
    "df.head()\n",
    "\n"
   ]
  },
  {
   "cell_type": "code",
   "execution_count": 22,
   "id": "01c68cf2-4d7c-4883-857e-c168c79d0cd6",
   "metadata": {},
   "outputs": [
    {
     "name": "stdout",
     "output_type": "stream",
     "text": [
      "<class 'pandas.core.frame.DataFrame'>\n",
      "RangeIndex: 891 entries, 0 to 890\n",
      "Data columns (total 15 columns):\n",
      " #   Column       Non-Null Count  Dtype   \n",
      "---  ------       --------------  -----   \n",
      " 0   survived     891 non-null    int64   \n",
      " 1   pclass       891 non-null    int64   \n",
      " 2   sex          891 non-null    object  \n",
      " 3   age          714 non-null    float64 \n",
      " 4   sibsp        891 non-null    int64   \n",
      " 5   parch        891 non-null    int64   \n",
      " 6   fare         891 non-null    float64 \n",
      " 7   embarked     889 non-null    object  \n",
      " 8   class        891 non-null    category\n",
      " 9   who          891 non-null    object  \n",
      " 10  adult_male   891 non-null    bool    \n",
      " 11  deck         203 non-null    category\n",
      " 12  embark_town  889 non-null    object  \n",
      " 13  alive        891 non-null    object  \n",
      " 14  alone        891 non-null    bool    \n",
      "dtypes: bool(2), category(2), float64(2), int64(4), object(5)\n",
      "memory usage: 80.7+ KB\n"
     ]
    },
    {
     "data": {
      "text/plain": [
       "survived         0\n",
       "pclass           0\n",
       "sex              0\n",
       "age            177\n",
       "sibsp            0\n",
       "parch            0\n",
       "fare             0\n",
       "embarked         2\n",
       "class            0\n",
       "who              0\n",
       "adult_male       0\n",
       "deck           688\n",
       "embark_town      2\n",
       "alive            0\n",
       "alone            0\n",
       "dtype: int64"
      ]
     },
     "execution_count": 22,
     "metadata": {},
     "output_type": "execute_result"
    }
   ],
   "source": [
    "df.info()\n",
    "df.isnull().sum()\n"
   ]
  },
  {
   "cell_type": "code",
   "execution_count": 23,
   "id": "1e934cf3-d033-4a00-8999-ea3c6c482ea4",
   "metadata": {},
   "outputs": [],
   "source": [
    "df = df.drop(columns=[\"deck\", \"embark_town\", \"alive\", \"who\", \"adult_male\", \"class\"])\n"
   ]
  },
  {
   "cell_type": "code",
   "execution_count": 1,
   "id": "d0cd7255-cd44-4c94-a35a-0a247a878d2f",
   "metadata": {},
   "outputs": [],
   "source": [
    "from sklearn.pipeline import Pipeline\n",
    "from sklearn.compose import ColumnTransformer\n",
    "from sklearn.impute import SimpleImputer\n",
    "from sklearn.preprocessing import OneHotEncoder, StandardScaler\n",
    "\n",
    "numeric_cols = [\"age\", \"fare\", \"sibsp\", \"parch\"]\n",
    "categorical_cols = [\"sex\", \"embarked\"]\n",
    "\n",
    "\n",
    "num_pipeline = Pipeline([\n",
    "    (\"imputer\", SimpleImputer(strategy=\"median\")),\n",
    "    (\"scaler\",  StandardScaler())\n",
    "])\n",
    "\n",
    " \n",
    "cat_pipeline = Pipeline([\n",
    "    (\"imputer\", SimpleImputer(strategy=\"most_frequent\")),\n",
    "    (\"encoder\", OneHotEncoder(handle_unknown=\"ignore\"))\n",
    "])\n",
    "\n",
    "preprocessor = ColumnTransformer([\n",
    "    (\"num\", num_pipeline, numeric_cols),\n",
    "    (\"cat\", cat_pipeline, categorical_cols)\n",
    "])\n"
   ]
  },
  {
   "cell_type": "code",
   "execution_count": 25,
   "id": "6f416564-d272-4cda-83d5-72578b3c56be",
   "metadata": {},
   "outputs": [],
   "source": [
    "from sklearn.model_selection import train_test_split\n",
    "\n",
    "X = df.drop(\"survived\", axis=1)\n",
    "y = df[\"survived\"]\n",
    "\n",
    "X_train, X_test, y_train, y_test = train_test_split(\n",
    "    X, y, test_size=0.2, random_state=42, stratify=y\n",
    ")\n"
   ]
  },
  {
   "cell_type": "code",
   "execution_count": 26,
   "id": "57381e36-fcb2-40f9-802c-4e3c4fe38813",
   "metadata": {},
   "outputs": [
    {
     "data": {
      "text/plain": [
       "{'LogisticRegression': {'accuracy': 0.7988826815642458,\n",
       "  'f1': 0.71875,\n",
       "  'auc': 0.8193675889328063},\n",
       " 'KNN': {'accuracy': 0.8324022346368715,\n",
       "  'f1': 0.7692307692307693,\n",
       "  'auc': 0.8627140974967061},\n",
       " 'DecisionTree': {'accuracy': 0.770949720670391,\n",
       "  'f1': 0.7007299270072993,\n",
       "  'auc': 0.7514492753623189}}"
      ]
     },
     "execution_count": 26,
     "metadata": {},
     "output_type": "execute_result"
    }
   ],
   "source": [
    "from sklearn.pipeline import Pipeline\n",
    "from sklearn.linear_model import LogisticRegression\n",
    "from sklearn.neighbors import KNeighborsClassifier\n",
    "from sklearn.tree import DecisionTreeClassifier\n",
    "from sklearn.metrics import accuracy_score, f1_score, roc_auc_score\n",
    "\n",
    "def evaluate_model(model_pipeline):\n",
    "    model_pipeline.fit(X_train, y_train)\n",
    "    preds = model_pipeline.predict(X_test)\n",
    "    probs = model_pipeline.predict_proba(X_test)[:,1]\n",
    "    return {\n",
    "        \"accuracy\": accuracy_score(y_test, preds),\n",
    "        \"f1\":       f1_score(y_test, preds),\n",
    "        \"auc\":      roc_auc_score(y_test, probs)\n",
    "    }\n",
    "\n",
    "models = {\n",
    "    \"LogisticRegression\": Pipeline([(\"prep\", preprocessor),\n",
    "                                    (\"clf\", LogisticRegression(max_iter=1000))]),\n",
    "    \"KNN\":                 Pipeline([(\"prep\", preprocessor),\n",
    "                                    (\"clf\", KNeighborsClassifier())]),\n",
    "    \"DecisionTree\":        Pipeline([(\"prep\", preprocessor),\n",
    "                                    (\"clf\", DecisionTreeClassifier(random_state=42))])\n",
    "}\n",
    "\n",
    "baseline_results = {name: evaluate_model(pipe)\n",
    "                    for name, pipe in models.items()}\n",
    "\n",
    "baseline_results\n"
   ]
  },
  {
   "cell_type": "code",
   "execution_count": 27,
   "id": "024ebfc2-264f-40a9-a97b-6aa5d501eb65",
   "metadata": {},
   "outputs": [
    {
     "data": {
      "text/plain": [
       "{'LogisticRegression': {'best_params': {'clf__C': 1},\n",
       "  'accuracy': 0.7988826815642458,\n",
       "  'f1': 0.71875,\n",
       "  'auc': 0.8193675889328063},\n",
       " 'KNN': {'best_params': {'clf__n_neighbors': 9, 'clf__weights': 'uniform'},\n",
       "  'accuracy': 0.7821229050279329,\n",
       "  'f1': 0.7111111111111111,\n",
       "  'auc': 0.8381422924901186},\n",
       " 'DecisionTree': {'best_params': {'clf__max_depth': 5,\n",
       "   'clf__min_samples_split': 5},\n",
       "  'accuracy': 0.8100558659217877,\n",
       "  'f1': 0.734375,\n",
       "  'auc': 0.8259552042160738}}"
      ]
     },
     "execution_count": 27,
     "metadata": {},
     "output_type": "execute_result"
    }
   ],
   "source": [
    "from sklearn.model_selection import GridSearchCV\n",
    "\n",
    "param_grids = {\n",
    "    \"LogisticRegression\": {\n",
    "        \"clf__C\": [0.01, 0.1, 1, 10]\n",
    "    },\n",
    "    \"KNN\": {\n",
    "        \"clf__n_neighbors\": [3, 5, 7, 9],\n",
    "        \"clf__weights\": [\"uniform\", \"distance\"]\n",
    "    },\n",
    "    \"DecisionTree\": {\n",
    "        \"clf__max_depth\": [None, 5, 10, 20],\n",
    "        \"clf__min_samples_split\": [2, 5, 10]\n",
    "    }\n",
    "}\n",
    "\n",
    "tuned_results = {}\n",
    "for name, pipeline in models.items():\n",
    "    gs = GridSearchCV(pipeline,\n",
    "                      param_grids[name],\n",
    "                      cv=5,\n",
    "                      scoring=\"accuracy\",\n",
    "                      n_jobs=-1)\n",
    "    gs.fit(X_train, y_train)\n",
    "    best = gs.best_estimator_\n",
    "    scores = evaluate_model(best)\n",
    "    tuned_results[name] = {\n",
    "        \"best_params\": gs.best_params_,\n",
    "        **scores\n",
    "    }\n",
    "\n",
    "tuned_results\n"
   ]
  },
  {
   "cell_type": "code",
   "execution_count": 28,
   "id": "15aace36-fd43-4bff-b932-6555f7b0a145",
   "metadata": {},
   "outputs": [
    {
     "data": {
      "image/png": "[encoded data removed]",
      "text/plain": [
       "<Figure size 640x480 with 1 Axes>"
      ]
     },
     "metadata": {},
     "output_type": "display_data"
    }
   ],
   "source": [
    "import matplotlib.pyplot as plt\n",
    "names = list(baseline_results)\n",
    "accs = [tuned_results[n][\"accuracy\"] for n in names]\n",
    "plt.bar(names, accs)\n",
    "plt.ylabel(\"Test Accuracy\")\n",
    "plt.title(\"Model Comparison\")\n",
    "plt.show()\n"
   ]
  },
  {
   "cell_type": "code",
   "execution_count": 32,
   "id": "93ec09be-9213-4dac-a59c-23fd40321f04",
   "metadata": {},
   "outputs": [
    {
     "data": {
      "image/png": "[encoded data removed]",
      "text/plain": [
       "<Figure size 640x480 with 2 Axes>"
      ]
     },
     "metadata": {},
     "output_type": "display_data"
    }
   ],
   "source": [
    "from sklearn.model_selection import GridSearchCV\n",
    "from sklearn.pipeline import Pipeline\n",
    "from sklearn.tree import DecisionTreeClassifier\n",
    "\n",
    "dt_pipe = Pipeline([\n",
    "    (\"prep\", preprocessor),\n",
    "    (\"clf\", DecisionTreeClassifier(random_state=42))\n",
    "])\n",
    "\n",
    "dt_param_grid = {\n",
    "    \"clf__max_depth\": [None, 5, 10, 20],\n",
    "    \"clf__min_samples_split\": [2, 5, 10]\n",
    "}\n",
    "gs_dt = GridSearchCV(\n",
    "    dt_pipe,\n",
    "    dt_param_grid,\n",
    "    cv=5,\n",
    "    scoring=\"accuracy\",\n",
    "    n_jobs=-1\n",
    ")\n",
    "gs_dt.fit(X_train, y_train)\n",
    "\n",
    "\n",
    "best_dt = gs_dt.best_estimator_\n",
    "\n",
    "from sklearn.metrics import confusion_matrix, ConfusionMatrixDisplay\n",
    "import matplotlib.pyplot as plt\n",
    "\n",
    "y_pred = best_dt.predict(X_test)\n",
    "cm = confusion_matrix(y_test, y_pred)\n",
    "\n",
    "disp = ConfusionMatrixDisplay(cm, display_labels=best_dt.named_steps[\"clf\"].classes_)\n",
    "disp.plot(cmap=\"Blues\")\n",
    "plt.title(\"Decision Tree (max_depth=%s, min_samples_split=%s) Confusion Matrix\"\n",
    "          % (gs_dt.best_params_[\"clf__max_depth\"],\n",
    "             gs_dt.best_params_[\"clf__min_samples_split\"]))\n",
    "plt.show()\n"
   ]
  },
  {
   "cell_type": "code",
   "execution_count": 8,
   "id": "04688115-1165-4292-b28b-36f4d0d3a09c",
   "metadata": {},
   "outputs": [],
   "source": [
    "import numpy as np, pandas as pd, seaborn as sns\n",
    "from sklearn.model_selection import train_test_split\n",
    "from sklearn.compose import ColumnTransformer\n",
    "from sklearn.preprocessing import OneHotEncoder, StandardScaler\n",
    "from sklearn.impute import SimpleImputer\n",
    "from sklearn.pipeline import Pipeline\n",
    "from sklearn.metrics import accuracy_score, f1_score, roc_auc_score, classification_report\n",
    "from sklearn.linear_model import LogisticRegression\n",
    "from sklearn.tree import DecisionTreeClassifier\n"
   ]
  },
  {
   "cell_type": "code",
   "execution_count": 12,
   "id": "c669920b-fe5b-416a-b9a6-e562e3f78ab3",
   "metadata": {},
   "outputs": [],
   "source": [
    "def engineer(df):\n",
    "    df = df.copy()\n",
    "    df[\"family_size\"] = df[\"sibsp\"] + df[\"parch\"] + 1\n",
    "    df[\"is_alone\"]    = (df[\"family_size\"] == 1).astype(int)\n",
    "    df[\"has_deck\"]    = df[\"deck\"].notna().astype(int)\n",
    "    df[\"fare_per_person\"] = df[\"fare\"] / df[\"family_size\"]\n",
    "    return df.drop(columns=[\"alive\",\"class\",\"who\",\"adult_male\",\"embark_town\"])\n",
    "\n",
    "titanic = engineer(sns.load_dataset(\"titanic\"))"
   ]
  },
  {
   "cell_type": "code",
   "execution_count": 14,
   "id": "85fa7c71",
   "metadata": {},
   "outputs": [
    {
     "name": "stdout",
     "output_type": "stream",
     "text": [
      "(712, 13) (179, 13)\n"
     ]
    }
   ],
   "source": [
    "from sklearn.model_selection import train_test_split\n",
    "\n",
    "X = titanic.drop(\"survived\", axis=1)\n",
    "y = titanic[\"survived\"]\n",
    "\n",
    "X_tr, X_te, y_tr, y_te = train_test_split(\n",
    "    X, y, test_size=0.20, stratify=y, random_state=42\n",
    ")\n",
    "print(X_tr.shape, X_te.shape)\n"
   ]
  },
  {
   "cell_type": "code",
   "execution_count": 16,
   "id": "b9d6076d",
   "metadata": {},
   "outputs": [],
   "source": [
    "from sklearn.compose import ColumnTransformer\n",
    "from sklearn.preprocessing import OneHotEncoder, StandardScaler\n",
    "from sklearn.impute import SimpleImputer\n",
    "from sklearn.pipeline import Pipeline\n",
    "\n",
    "num_cols = X.select_dtypes(include=[\"int64\", \"float64\"]).columns.tolist()\n",
    "cat_cols = X.select_dtypes(include=[\"object\", \"category\"]).columns.tolist()\n",
    "\n",
    "preprocess = ColumnTransformer([\n",
    "    \n",
    "    (\"num\", Pipeline([\n",
    "        (\"imp\", SimpleImputer(strategy=\"median\")),\n",
    "        (\"sc\" , StandardScaler())\n",
    "    ]), num_cols),\n",
    "\n",
    "   \n",
    "    (\"cat\", Pipeline([\n",
    "        (\"imp\", SimpleImputer(strategy=\"most_frequent\")),\n",
    "        (\"ohe\", OneHotEncoder(handle_unknown=\"ignore\"))\n",
    "    ]), cat_cols),\n",
    "])\n",
    "\n"
   ]
  },
  {
   "cell_type": "code",
   "execution_count": 18,
   "id": "357572da",
   "metadata": {},
   "outputs": [
    {
     "data": {
      "text/html": [
       "<div>\n",
       "<style scoped>\n",
       "    .dataframe tbody tr th:only-of-type {\n",
       "        vertical-align: middle;\n",
       "    }\n",
       "\n",
       "    .dataframe tbody tr th {\n",
       "        vertical-align: top;\n",
       "    }\n",
       "\n",
       "    .dataframe thead th {\n",
       "        text-align: right;\n",
       "    }\n",
       "</style>\n",
       "<table border=\"1\" class=\"dataframe\">\n",
       "  <thead>\n",
       "    <tr style=\"text-align: right;\">\n",
       "      <th></th>\n",
       "      <th>accuracy</th>\n",
       "      <th>f1</th>\n",
       "      <th>roc_auc</th>\n",
       "    </tr>\n",
       "  </thead>\n",
       "  <tbody>\n",
       "    <tr>\n",
       "      <th>LogReg</th>\n",
       "      <td>0.821229</td>\n",
       "      <td>0.75</td>\n",
       "      <td>0.846377</td>\n",
       "    </tr>\n",
       "    <tr>\n",
       "      <th>DecTree</th>\n",
       "      <td>0.776536</td>\n",
       "      <td>0.677419</td>\n",
       "      <td>0.818906</td>\n",
       "    </tr>\n",
       "  </tbody>\n",
       "</table>\n",
       "</div>"
      ],
      "text/plain": [
       "         accuracy        f1   roc_auc\n",
       "LogReg   0.821229      0.75  0.846377\n",
       "DecTree  0.776536  0.677419  0.818906"
      ]
     },
     "execution_count": 18,
     "metadata": {},
     "output_type": "execute_result"
    }
   ],
   "source": [
    "from sklearn.linear_model import LogisticRegression\n",
    "from sklearn.tree import DecisionTreeClassifier\n",
    "from sklearn.metrics import accuracy_score, f1_score, roc_auc_score, classification_report\n",
    "import pandas as pd\n",
    "\n",
    "models = {\n",
    "    \"LogReg\":  LogisticRegression(max_iter=1000, random_state=42),\n",
    "    \"DecTree\": DecisionTreeClassifier(max_depth=5, random_state=42)\n",
    "}\n",
    "\n",
    "results = {}\n",
    "for name, clf in models.items():\n",
    "    pipe = Pipeline([(\"prep\", preprocess), (\"clf\", clf)])\n",
    "    pipe.fit(X_tr, y_tr)\n",
    "\n",
    "    y_pred = pipe.predict(X_te)\n",
    "    y_prob = pipe.predict_proba(X_te)[:, 1]\n",
    "\n",
    "    results[name] = {\n",
    "        \"accuracy\":  accuracy_score(y_te, y_pred),\n",
    "        \"f1\":        f1_score(y_te, y_pred),\n",
    "        \"roc_auc\":   roc_auc_score(y_te, y_prob),\n",
    "        \"model\":     pipe\n",
    "    }\n",
    "\n",
    "pd.DataFrame(results).T[[\"accuracy\", \"f1\", \"roc_auc\"]]\n"
   ]
  },
  {
   "cell_type": "code",
   "execution_count": 19,
   "id": "dc48b410",
   "metadata": {},
   "outputs": [
    {
     "data": {
      "text/plain": [
       "sex_male           0.508870\n",
       "pclass             0.147070\n",
       "age                0.125924\n",
       "fare_per_person    0.113947\n",
       "family_size        0.036979\n",
       "fare               0.019961\n",
       "embarked_S         0.016759\n",
       "sibsp              0.010692\n",
       "deck_D             0.009982\n",
       "deck_E             0.009815\n",
       "dtype: float64"
      ]
     },
     "execution_count": 19,
     "metadata": {},
     "output_type": "execute_result"
    }
   ],
   "source": [
    " \n",
    "tree = results[\"DecTree\"][\"model\"].named_steps[\"clf\"]\n",
    "ohe  = results[\"DecTree\"][\"model\"]\\\n",
    "        .named_steps[\"prep\"]\\\n",
    "        .named_transformers_[\"cat\"]\\\n",
    "        .named_steps[\"ohe\"]\n",
    "\n",
    "feat_names = (\n",
    "    num_cols +\n",
    "    list(ohe.get_feature_names_out(cat_cols))\n",
    ")\n",
    "\n",
    "importances = pd.Series(tree.feature_importances_, index=feat_names)\\\n",
    "                 .sort_values(ascending=False)\n",
    " \n",
    "importances.head(10)\n"
   ]
  },
  {
   "cell_type": "code",
   "execution_count": 20,
   "id": "7abcdb1d",
   "metadata": {},
   "outputs": [
    {
     "name": "stdout",
     "output_type": "stream",
     "text": [
      "Random-Forest  ROC-AUC: 0.8328063241106719\n"
     ]
    }
   ],
   "source": [
    "from sklearn.ensemble import RandomForestClassifier\n",
    "\n",
    "rf_pipe = Pipeline([\n",
    "    (\"prep\", preprocess),\n",
    "    (\"clf\" , RandomForestClassifier(\n",
    "        n_estimators=300, max_depth=None,\n",
    "        random_state=42, n_jobs=-1\n",
    "    ))\n",
    "])\n",
    "\n",
    "rf_pipe.fit(X_tr, y_tr)\n",
    "rf_prob = rf_pipe.predict_proba(X_te)[:, 1]\n",
    "\n",
    "print(\"Random-Forest  ROC-AUC:\",\n",
    "      roc_auc_score(y_te, rf_prob))\n"
   ]
  },
  {
   "cell_type": "code",
   "execution_count": 21,
   "id": "0d3e7b45",
   "metadata": {},
   "outputs": [
    {
     "name": "stdout",
     "output_type": "stream",
     "text": [
      "Brier_raw    0.152905\n",
      "Brier_cal    0.152082\n",
      "AUC_raw      0.832806\n",
      "AUC_cal      0.829117\n",
      "dtype: float64\n"
     ]
    },
    {
     "data": {
      "image/png": "[encoded data removed]",
      "text/plain": [
       "<Figure size 600x600 with 1 Axes>"
      ]
     },
     "metadata": {},
     "output_type": "display_data"
    }
   ],
   "source": [
    "from sklearn.calibration import CalibratedClassifierCV, calibration_curve\n",
    "from sklearn.metrics import brier_score_loss, roc_auc_score\n",
    "import matplotlib.pyplot as plt\n",
    "import pandas as pd\n",
    "\n",
    "base_model = rf_pipe\n",
    "\n",
    "cal = CalibratedClassifierCV(estimator=base_model, method=\"isotonic\", cv=5)\n",
    "cal.fit(X_tr, y_tr)\n",
    "\n",
    "p_raw = base_model.predict_proba(X_te)[:, 1]\n",
    "p_cal = cal.predict_proba(X_te)[:, 1]\n",
    "\n",
    "metrics = {\n",
    "    \"Brier_raw\": brier_score_loss(y_te, p_raw),\n",
    "    \"Brier_cal\": brier_score_loss(y_te, p_cal),\n",
    "    \"AUC_raw\": roc_auc_score(y_te, p_raw),\n",
    "    \"AUC_cal\": roc_auc_score(y_te, p_cal),\n",
    "}\n",
    "print(pd.Series(metrics))\n",
    "\n",
    "fig, ax = plt.subplots(figsize=(6, 6))\n",
    "for probs, label, style in [\n",
    "    (p_raw, \"before\", dict(ls=\"--\", marker=\"o\")),\n",
    "    (p_cal, \"after\", dict(ls=\"-\", marker=\"s\"))\n",
    "]:\n",
    "    frac_pos, mean_pred = calibration_curve(y_te, probs, n_bins=10, strategy=\"uniform\")\n",
    "    ax.plot(mean_pred, frac_pos, label=label, **style)\n",
    "\n",
    "ax.plot([0, 1], [0, 1], \"k:\", lw=1)\n",
    "ax.set_xlabel(\"Predicted probability\")\n",
    "ax.set_ylabel(\"Empirical survival rate\")\n",
    "ax.set_title(\"Reliability curve: raw vs calibrated\")\n",
    "ax.legend()\n",
    "plt.tight_layout()\n",
    "plt.show()\n"
   ]
  },
  {
   "cell_type": "code",
   "execution_count": null,
   "id": "8e5df257",
   "metadata": {},
   "outputs": [],
   "source": []
  }
 ],
 "metadata": {
  "kernelspec": {
   "display_name": "Python 3 (ipykernel)",
   "language": "python",
   "name": "python3"
  },
  "language_info": {
   "codemirror_mode": {
    "name": "ipython",
    "version": 3
   },
   "file_extension": ".py",
   "mimetype": "text/x-python",
   "name": "python",
   "nbconvert_exporter": "python",
   "pygments_lexer": "ipython3",
   "version": "3.12.2"
  }
 },
 "nbformat": 4,
 "nbformat_minor": 5
}
